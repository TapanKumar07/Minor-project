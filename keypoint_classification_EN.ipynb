{
 "cells": [
  {
   "cell_type": "code",
   "execution_count": 1,
   "metadata": {
    "id": "igMyGnjE9hEp"
   },
   "outputs": [],
   "source": [
    "import csv\n",
    "\n",
    "import numpy as np\n",
    "import tensorflow as tf\n",
    "from sklearn.model_selection import train_test_split\n",
    "\n",
    "RANDOM_SEED = 42"
   ]
  },
  {
   "cell_type": "markdown",
   "metadata": {
    "id": "t2HDvhIu9hEr"
   },
   "source": [
    "# Specify each path"
   ]
  },
  {
   "cell_type": "code",
   "execution_count": 2,
   "metadata": {
    "id": "9NvZP2Zn9hEy"
   },
   "outputs": [],
   "source": [
    "dataset = 'model/keypoint_classifier/keypoint.csv'\n",
    "model_save_path = 'model/keypoint_classifier/keypoint_classifier.hdf5'\n",
    "tflite_save_path = 'model/keypoint_classifier/keypoint_classifier.tflite'"
   ]
  },
  {
   "cell_type": "markdown",
   "metadata": {
    "id": "s5oMH7x19hEz"
   },
   "source": [
    "# Set number of classes"
   ]
  },
  {
   "cell_type": "code",
   "execution_count": 3,
   "metadata": {
    "id": "du4kodXL9hEz"
   },
   "outputs": [],
   "source": [
    "NUM_CLASSES = 8"
   ]
  },
  {
   "cell_type": "markdown",
   "metadata": {
    "id": "XjnL0uso9hEz"
   },
   "source": [
    "# Dataset reading"
   ]
  },
  {
   "cell_type": "code",
   "execution_count": 4,
   "metadata": {
    "id": "QT5ZqtEz9hE0"
   },
   "outputs": [],
   "source": [
    "X_dataset = np.loadtxt(dataset, delimiter=',', dtype='float32', usecols=list(range(1, (21 * 2) + 1)))"
   ]
  },
  {
   "cell_type": "code",
   "execution_count": 5,
   "metadata": {
    "id": "QmoKFsp49hE0"
   },
   "outputs": [],
   "source": [
    "y_dataset = np.loadtxt(dataset, delimiter=',', dtype='int32', usecols=(0))"
   ]
  },
  {
   "cell_type": "code",
   "execution_count": 6,
   "metadata": {
    "id": "xQU7JTZ_9hE0"
   },
   "outputs": [],
   "source": [
    "X_train, X_test, y_train, y_test = train_test_split(X_dataset, y_dataset, train_size=0.75, random_state=RANDOM_SEED)"
   ]
  },
  {
   "cell_type": "markdown",
   "metadata": {
    "id": "mxK_lETT9hE0"
   },
   "source": [
    "# Model building"
   ]
  },
  {
   "cell_type": "code",
   "execution_count": 7,
   "metadata": {
    "id": "vHBmUf1t9hE1"
   },
   "outputs": [],
   "source": [
    "model = tf.keras.models.Sequential([\n",
    "    tf.keras.layers.Input((21 * 2, )),\n",
    "    tf.keras.layers.Dropout(0.2),\n",
    "    tf.keras.layers.Dense(20, activation='relu'),\n",
    "    tf.keras.layers.Dropout(0.4),\n",
    "    tf.keras.layers.Dense(10, activation='relu'),\n",
    "    tf.keras.layers.Dense(NUM_CLASSES, activation='softmax')\n",
    "])"
   ]
  },
  {
   "cell_type": "code",
   "execution_count": 8,
   "metadata": {
    "colab": {
     "base_uri": "https://localhost:8080/"
    },
    "id": "ypqky9tc9hE1",
    "outputId": "5db082bb-30e3-4110-bf63-a1ee777ecd46"
   },
   "outputs": [
    {
     "name": "stdout",
     "output_type": "stream",
     "text": [
      "Model: \"sequential\"\n",
      "_________________________________________________________________\n",
      " Layer (type)                Output Shape              Param #   \n",
      "=================================================================\n",
      " dropout (Dropout)           (None, 42)                0         \n",
      "                                                                 \n",
      " dense (Dense)               (None, 20)                860       \n",
      "                                                                 \n",
      " dropout_1 (Dropout)         (None, 20)                0         \n",
      "                                                                 \n",
      " dense_1 (Dense)             (None, 10)                210       \n",
      "                                                                 \n",
      " dense_2 (Dense)             (None, 8)                 88        \n",
      "                                                                 \n",
      "=================================================================\n",
      "Total params: 1,158\n",
      "Trainable params: 1,158\n",
      "Non-trainable params: 0\n",
      "_________________________________________________________________\n"
     ]
    }
   ],
   "source": [
    "model.summary()  # tf.keras.utils.plot_model(model, show_shapes=True)"
   ]
  },
  {
   "cell_type": "code",
   "execution_count": 9,
   "metadata": {
    "id": "MbMjOflQ9hE1"
   },
   "outputs": [],
   "source": [
    "# Model checkpoint callback\n",
    "cp_callback = tf.keras.callbacks.ModelCheckpoint(\n",
    "    model_save_path, verbose=1, save_weights_only=False)\n",
    "# Callback for early stopping\n",
    "es_callback = tf.keras.callbacks.EarlyStopping(patience=20, verbose=1)"
   ]
  },
  {
   "cell_type": "code",
   "execution_count": 10,
   "metadata": {
    "id": "c3Dac0M_9hE2"
   },
   "outputs": [],
   "source": [
    "# Model compilation\n",
    "model.compile(\n",
    "    optimizer='adam',\n",
    "    loss='sparse_categorical_crossentropy',\n",
    "    metrics=['accuracy']\n",
    ")"
   ]
  },
  {
   "cell_type": "markdown",
   "metadata": {
    "id": "7XI0j1Iu9hE2"
   },
   "source": [
    "# Model training"
   ]
  },
  {
   "cell_type": "code",
   "execution_count": 11,
   "metadata": {
    "colab": {
     "base_uri": "https://localhost:8080/"
    },
    "id": "WirBl-JE9hE3",
    "outputId": "71b30ca2-8294-4d9d-8aa2-800d90d399de",
    "scrolled": true
   },
   "outputs": [
    {
     "name": "stdout",
     "output_type": "stream",
     "text": [
      "Epoch 1/1000\n",
      "32/40 [=======================>......] - ETA: 0s - loss: 2.0452 - accuracy: 0.1501\n",
      "Epoch 1: saving model to model/keypoint_classifier\\keypoint_classifier.hdf5\n",
      "40/40 [==============================] - 3s 22ms/step - loss: 2.0264 - accuracy: 0.1616 - val_loss: 1.8805 - val_accuracy: 0.3025\n",
      "Epoch 2/1000\n",
      "32/40 [=======================>......] - ETA: 0s - loss: 1.8817 - accuracy: 0.2373\n",
      "Epoch 2: saving model to model/keypoint_classifier\\keypoint_classifier.hdf5\n",
      "40/40 [==============================] - 0s 10ms/step - loss: 1.8725 - accuracy: 0.2376 - val_loss: 1.7443 - val_accuracy: 0.2996\n",
      "Epoch 3/1000\n",
      "32/40 [=======================>......] - ETA: 0s - loss: 1.7837 - accuracy: 0.2666\n",
      "Epoch 3: saving model to model/keypoint_classifier\\keypoint_classifier.hdf5\n",
      "40/40 [==============================] - 0s 9ms/step - loss: 1.7772 - accuracy: 0.2674 - val_loss: 1.6373 - val_accuracy: 0.3233\n",
      "Epoch 4/1000\n",
      "33/40 [=======================>......] - ETA: 0s - loss: 1.6978 - accuracy: 0.2910\n",
      "Epoch 4: saving model to model/keypoint_classifier\\keypoint_classifier.hdf5\n",
      "40/40 [==============================] - 0s 9ms/step - loss: 1.6891 - accuracy: 0.2921 - val_loss: 1.5234 - val_accuracy: 0.3925\n",
      "Epoch 5/1000\n",
      "33/40 [=======================>......] - ETA: 0s - loss: 1.6077 - accuracy: 0.3196\n",
      "Epoch 5: saving model to model/keypoint_classifier\\keypoint_classifier.hdf5\n",
      "40/40 [==============================] - 0s 9ms/step - loss: 1.5969 - accuracy: 0.3233 - val_loss: 1.4055 - val_accuracy: 0.4488\n",
      "Epoch 6/1000\n",
      "33/40 [=======================>......] - ETA: 0s - loss: 1.5048 - accuracy: 0.3800\n",
      "Epoch 6: saving model to model/keypoint_classifier\\keypoint_classifier.hdf5\n",
      "40/40 [==============================] - 0s 9ms/step - loss: 1.4987 - accuracy: 0.3858 - val_loss: 1.2845 - val_accuracy: 0.5992\n",
      "Epoch 7/1000\n",
      "31/40 [======================>.......] - ETA: 0s - loss: 1.4428 - accuracy: 0.4166\n",
      "Epoch 7: saving model to model/keypoint_classifier\\keypoint_classifier.hdf5\n",
      "40/40 [==============================] - 0s 10ms/step - loss: 1.4404 - accuracy: 0.4166 - val_loss: 1.1866 - val_accuracy: 0.6311\n",
      "Epoch 8/1000\n",
      "32/40 [=======================>......] - ETA: 0s - loss: 1.3661 - accuracy: 0.4573\n",
      "Epoch 8: saving model to model/keypoint_classifier\\keypoint_classifier.hdf5\n",
      "40/40 [==============================] - 0s 10ms/step - loss: 1.3624 - accuracy: 0.4581 - val_loss: 1.0997 - val_accuracy: 0.6643\n",
      "Epoch 9/1000\n",
      "31/40 [======================>.......] - ETA: 0s - loss: 1.3138 - accuracy: 0.4783\n",
      "Epoch 9: saving model to model/keypoint_classifier\\keypoint_classifier.hdf5\n",
      "40/40 [==============================] - 0s 10ms/step - loss: 1.3098 - accuracy: 0.4752 - val_loss: 1.0207 - val_accuracy: 0.6773\n",
      "Epoch 10/1000\n",
      "34/40 [========================>.....] - ETA: 0s - loss: 1.2443 - accuracy: 0.5014\n",
      "Epoch 10: saving model to model/keypoint_classifier\\keypoint_classifier.hdf5\n",
      "40/40 [==============================] - 0s 9ms/step - loss: 1.2359 - accuracy: 0.5050 - val_loss: 0.9587 - val_accuracy: 0.7620\n",
      "Epoch 11/1000\n",
      "33/40 [=======================>......] - ETA: 0s - loss: 1.2162 - accuracy: 0.5223\n",
      "Epoch 11: saving model to model/keypoint_classifier\\keypoint_classifier.hdf5\n",
      "40/40 [==============================] - 0s 11ms/step - loss: 1.2134 - accuracy: 0.5216 - val_loss: 0.8993 - val_accuracy: 0.7869\n",
      "Epoch 12/1000\n",
      "39/40 [============================>.] - ETA: 0s - loss: 1.1736 - accuracy: 0.5395\n",
      "Epoch 12: saving model to model/keypoint_classifier\\keypoint_classifier.hdf5\n",
      "40/40 [==============================] - 0s 11ms/step - loss: 1.1729 - accuracy: 0.5394 - val_loss: 0.8504 - val_accuracy: 0.8064\n",
      "Epoch 13/1000\n",
      "31/40 [======================>.......] - ETA: 0s - loss: 1.1521 - accuracy: 0.5323\n",
      "Epoch 13: saving model to model/keypoint_classifier\\keypoint_classifier.hdf5\n",
      "40/40 [==============================] - 0s 9ms/step - loss: 1.1569 - accuracy: 0.5319 - val_loss: 0.8139 - val_accuracy: 0.8194\n",
      "Epoch 14/1000\n",
      "38/40 [===========================>..] - ETA: 0s - loss: 1.1271 - accuracy: 0.5430\n",
      "Epoch 14: saving model to model/keypoint_classifier\\keypoint_classifier.hdf5\n",
      "40/40 [==============================] - 0s 11ms/step - loss: 1.1264 - accuracy: 0.5429 - val_loss: 0.7835 - val_accuracy: 0.8117\n",
      "Epoch 15/1000\n",
      "37/40 [==========================>...] - ETA: 0s - loss: 1.0991 - accuracy: 0.5538\n",
      "Epoch 15: saving model to model/keypoint_classifier\\keypoint_classifier.hdf5\n",
      "40/40 [==============================] - 1s 14ms/step - loss: 1.0971 - accuracy: 0.5556 - val_loss: 0.7571 - val_accuracy: 0.8330\n",
      "Epoch 16/1000\n",
      "40/40 [==============================] - ETA: 0s - loss: 1.0816 - accuracy: 0.5696\n",
      "Epoch 16: saving model to model/keypoint_classifier\\keypoint_classifier.hdf5\n",
      "40/40 [==============================] - 0s 12ms/step - loss: 1.0816 - accuracy: 0.5696 - val_loss: 0.7302 - val_accuracy: 0.8330\n",
      "Epoch 17/1000\n",
      "38/40 [===========================>..] - ETA: 0s - loss: 1.0579 - accuracy: 0.5699\n",
      "Epoch 17: saving model to model/keypoint_classifier\\keypoint_classifier.hdf5\n",
      "40/40 [==============================] - 0s 11ms/step - loss: 1.0556 - accuracy: 0.5725 - val_loss: 0.7055 - val_accuracy: 0.8336\n",
      "Epoch 18/1000\n",
      "39/40 [============================>.] - ETA: 0s - loss: 1.0519 - accuracy: 0.5833\n",
      "Epoch 18: saving model to model/keypoint_classifier\\keypoint_classifier.hdf5\n",
      "40/40 [==============================] - 0s 11ms/step - loss: 1.0526 - accuracy: 0.5820 - val_loss: 0.6803 - val_accuracy: 0.8407\n",
      "Epoch 19/1000\n",
      "37/40 [==========================>...] - ETA: 0s - loss: 1.0377 - accuracy: 0.5872\n",
      "Epoch 19: saving model to model/keypoint_classifier\\keypoint_classifier.hdf5\n",
      "40/40 [==============================] - 0s 11ms/step - loss: 1.0363 - accuracy: 0.5879 - val_loss: 0.6661 - val_accuracy: 0.8496\n",
      "Epoch 20/1000\n",
      "33/40 [=======================>......] - ETA: 0s - loss: 1.0269 - accuracy: 0.5947\n",
      "Epoch 20: saving model to model/keypoint_classifier\\keypoint_classifier.hdf5\n",
      "40/40 [==============================] - 0s 12ms/step - loss: 1.0309 - accuracy: 0.5891 - val_loss: 0.6508 - val_accuracy: 0.8603\n",
      "Epoch 21/1000\n",
      "37/40 [==========================>...] - ETA: 0s - loss: 1.0064 - accuracy: 0.6094\n",
      "Epoch 21: saving model to model/keypoint_classifier\\keypoint_classifier.hdf5\n",
      "40/40 [==============================] - 0s 11ms/step - loss: 1.0052 - accuracy: 0.6098 - val_loss: 0.6353 - val_accuracy: 0.8514\n",
      "Epoch 22/1000\n",
      "34/40 [========================>.....] - ETA: 0s - loss: 0.9935 - accuracy: 0.6059\n",
      "Epoch 22: saving model to model/keypoint_classifier\\keypoint_classifier.hdf5\n",
      "40/40 [==============================] - 0s 11ms/step - loss: 0.9881 - accuracy: 0.6098 - val_loss: 0.6194 - val_accuracy: 0.8680\n",
      "Epoch 23/1000\n",
      "40/40 [==============================] - ETA: 0s - loss: 0.9795 - accuracy: 0.6199\n",
      "Epoch 23: saving model to model/keypoint_classifier\\keypoint_classifier.hdf5\n",
      "40/40 [==============================] - 0s 12ms/step - loss: 0.9795 - accuracy: 0.6199 - val_loss: 0.6084 - val_accuracy: 0.8745\n",
      "Epoch 24/1000\n",
      "37/40 [==========================>...] - ETA: 0s - loss: 0.9714 - accuracy: 0.6151\n",
      "Epoch 24: saving model to model/keypoint_classifier\\keypoint_classifier.hdf5\n",
      "40/40 [==============================] - 0s 10ms/step - loss: 0.9748 - accuracy: 0.6142 - val_loss: 0.5952 - val_accuracy: 0.8792\n",
      "Epoch 25/1000\n",
      "40/40 [==============================] - ETA: 0s - loss: 0.9627 - accuracy: 0.6211\n",
      "Epoch 25: saving model to model/keypoint_classifier\\keypoint_classifier.hdf5\n",
      "40/40 [==============================] - 0s 12ms/step - loss: 0.9627 - accuracy: 0.6211 - val_loss: 0.5807 - val_accuracy: 0.8757\n",
      "Epoch 26/1000\n",
      "34/40 [========================>.....] - ETA: 0s - loss: 0.9511 - accuracy: 0.6310\n",
      "Epoch 26: saving model to model/keypoint_classifier\\keypoint_classifier.hdf5\n",
      "40/40 [==============================] - 0s 11ms/step - loss: 0.9532 - accuracy: 0.6238 - val_loss: 0.5639 - val_accuracy: 0.8774\n",
      "Epoch 27/1000\n",
      "40/40 [==============================] - ETA: 0s - loss: 0.9666 - accuracy: 0.6248\n",
      "Epoch 27: saving model to model/keypoint_classifier\\keypoint_classifier.hdf5\n",
      "40/40 [==============================] - 0s 11ms/step - loss: 0.9666 - accuracy: 0.6248 - val_loss: 0.5680 - val_accuracy: 0.8840\n",
      "Epoch 28/1000\n"
     ]
    },
    {
     "name": "stdout",
     "output_type": "stream",
     "text": [
      "39/40 [============================>.] - ETA: 0s - loss: 0.9521 - accuracy: 0.6404\n",
      "Epoch 28: saving model to model/keypoint_classifier\\keypoint_classifier.hdf5\n",
      "40/40 [==============================] - 0s 12ms/step - loss: 0.9518 - accuracy: 0.6408 - val_loss: 0.5545 - val_accuracy: 0.8899\n",
      "Epoch 29/1000\n",
      "35/40 [=========================>....] - ETA: 0s - loss: 0.9333 - accuracy: 0.6391\n",
      "Epoch 29: saving model to model/keypoint_classifier\\keypoint_classifier.hdf5\n",
      "40/40 [==============================] - 0s 12ms/step - loss: 0.9312 - accuracy: 0.6396 - val_loss: 0.5443 - val_accuracy: 0.8917\n",
      "Epoch 30/1000\n",
      "38/40 [===========================>..] - ETA: 0s - loss: 0.9280 - accuracy: 0.6369\n",
      "Epoch 30: saving model to model/keypoint_classifier\\keypoint_classifier.hdf5\n",
      "40/40 [==============================] - 0s 11ms/step - loss: 0.9307 - accuracy: 0.6361 - val_loss: 0.5388 - val_accuracy: 0.8804\n",
      "Epoch 31/1000\n",
      "40/40 [==============================] - ETA: 0s - loss: 0.9182 - accuracy: 0.6367\n",
      "Epoch 31: saving model to model/keypoint_classifier\\keypoint_classifier.hdf5\n",
      "40/40 [==============================] - 0s 12ms/step - loss: 0.9182 - accuracy: 0.6367 - val_loss: 0.5280 - val_accuracy: 0.8946\n",
      "Epoch 32/1000\n",
      "33/40 [=======================>......] - ETA: 0s - loss: 0.9230 - accuracy: 0.6451\n",
      "Epoch 32: saving model to model/keypoint_classifier\\keypoint_classifier.hdf5\n",
      "40/40 [==============================] - 0s 11ms/step - loss: 0.9193 - accuracy: 0.6491 - val_loss: 0.5204 - val_accuracy: 0.8970\n",
      "Epoch 33/1000\n",
      "37/40 [==========================>...] - ETA: 0s - loss: 0.9125 - accuracy: 0.6427\n",
      "Epoch 33: saving model to model/keypoint_classifier\\keypoint_classifier.hdf5\n",
      "40/40 [==============================] - 0s 12ms/step - loss: 0.9107 - accuracy: 0.6450 - val_loss: 0.5147 - val_accuracy: 0.8982\n",
      "Epoch 34/1000\n",
      "35/40 [=========================>....] - ETA: 0s - loss: 0.9064 - accuracy: 0.6580\n",
      "Epoch 34: saving model to model/keypoint_classifier\\keypoint_classifier.hdf5\n",
      "40/40 [==============================] - 0s 12ms/step - loss: 0.9063 - accuracy: 0.6584 - val_loss: 0.5061 - val_accuracy: 0.8982\n",
      "Epoch 35/1000\n",
      "38/40 [===========================>..] - ETA: 0s - loss: 0.8628 - accuracy: 0.6589\n",
      "Epoch 35: saving model to model/keypoint_classifier\\keypoint_classifier.hdf5\n",
      "40/40 [==============================] - 0s 12ms/step - loss: 0.8638 - accuracy: 0.6596 - val_loss: 0.4916 - val_accuracy: 0.8917\n",
      "Epoch 36/1000\n",
      "40/40 [==============================] - ETA: 0s - loss: 0.9040 - accuracy: 0.6491\n",
      "Epoch 36: saving model to model/keypoint_classifier\\keypoint_classifier.hdf5\n",
      "40/40 [==============================] - 0s 10ms/step - loss: 0.9040 - accuracy: 0.6491 - val_loss: 0.4889 - val_accuracy: 0.9047\n",
      "Epoch 37/1000\n",
      "34/40 [========================>.....] - ETA: 0s - loss: 0.8799 - accuracy: 0.6661\n",
      "Epoch 37: saving model to model/keypoint_classifier\\keypoint_classifier.hdf5\n",
      "40/40 [==============================] - 1s 13ms/step - loss: 0.8778 - accuracy: 0.6653 - val_loss: 0.4845 - val_accuracy: 0.9053\n",
      "Epoch 38/1000\n",
      "33/40 [=======================>......] - ETA: 0s - loss: 0.8902 - accuracy: 0.6643\n",
      "Epoch 38: saving model to model/keypoint_classifier\\keypoint_classifier.hdf5\n",
      "40/40 [==============================] - 1s 16ms/step - loss: 0.8913 - accuracy: 0.6629 - val_loss: 0.4865 - val_accuracy: 0.9136\n",
      "Epoch 39/1000\n",
      "38/40 [===========================>..] - ETA: 0s - loss: 0.8841 - accuracy: 0.6632\n",
      "Epoch 39: saving model to model/keypoint_classifier\\keypoint_classifier.hdf5\n",
      "40/40 [==============================] - 0s 11ms/step - loss: 0.8797 - accuracy: 0.6663 - val_loss: 0.4844 - val_accuracy: 0.9100\n",
      "Epoch 40/1000\n",
      "36/40 [==========================>...] - ETA: 0s - loss: 0.8587 - accuracy: 0.6762\n",
      "Epoch 40: saving model to model/keypoint_classifier\\keypoint_classifier.hdf5\n",
      "40/40 [==============================] - 1s 13ms/step - loss: 0.8530 - accuracy: 0.6789 - val_loss: 0.4748 - val_accuracy: 0.9183\n",
      "Epoch 41/1000\n",
      "40/40 [==============================] - ETA: 0s - loss: 0.8815 - accuracy: 0.6698\n",
      "Epoch 41: saving model to model/keypoint_classifier\\keypoint_classifier.hdf5\n",
      "40/40 [==============================] - 1s 13ms/step - loss: 0.8815 - accuracy: 0.6698 - val_loss: 0.4706 - val_accuracy: 0.9100\n",
      "Epoch 42/1000\n",
      "36/40 [==========================>...] - ETA: 0s - loss: 0.8708 - accuracy: 0.6719\n",
      "Epoch 42: saving model to model/keypoint_classifier\\keypoint_classifier.hdf5\n",
      "40/40 [==============================] - 0s 12ms/step - loss: 0.8668 - accuracy: 0.6732 - val_loss: 0.4642 - val_accuracy: 0.9248\n",
      "Epoch 43/1000\n",
      "33/40 [=======================>......] - ETA: 0s - loss: 0.8442 - accuracy: 0.6809\n",
      "Epoch 43: saving model to model/keypoint_classifier\\keypoint_classifier.hdf5\n",
      "40/40 [==============================] - 0s 12ms/step - loss: 0.8427 - accuracy: 0.6807 - val_loss: 0.4517 - val_accuracy: 0.9130\n",
      "Epoch 44/1000\n",
      "33/40 [=======================>......] - ETA: 0s - loss: 0.8834 - accuracy: 0.6652\n",
      "Epoch 44: saving model to model/keypoint_classifier\\keypoint_classifier.hdf5\n",
      "40/40 [==============================] - 0s 12ms/step - loss: 0.8712 - accuracy: 0.6696 - val_loss: 0.4578 - val_accuracy: 0.9183\n",
      "Epoch 45/1000\n",
      "39/40 [============================>.] - ETA: 0s - loss: 0.8496 - accuracy: 0.6823\n",
      "Epoch 45: saving model to model/keypoint_classifier\\keypoint_classifier.hdf5\n",
      "40/40 [==============================] - 0s 11ms/step - loss: 0.8515 - accuracy: 0.6813 - val_loss: 0.4539 - val_accuracy: 0.9236\n",
      "Epoch 46/1000\n",
      "33/40 [=======================>......] - ETA: 0s - loss: 0.8352 - accuracy: 0.6877\n",
      "Epoch 46: saving model to model/keypoint_classifier\\keypoint_classifier.hdf5\n",
      "40/40 [==============================] - 0s 11ms/step - loss: 0.8305 - accuracy: 0.6870 - val_loss: 0.4456 - val_accuracy: 0.9313\n",
      "Epoch 47/1000\n",
      "39/40 [============================>.] - ETA: 0s - loss: 0.8279 - accuracy: 0.6887\n",
      "Epoch 47: saving model to model/keypoint_classifier\\keypoint_classifier.hdf5\n",
      "40/40 [==============================] - 0s 11ms/step - loss: 0.8289 - accuracy: 0.6882 - val_loss: 0.4359 - val_accuracy: 0.9266\n",
      "Epoch 48/1000\n",
      "40/40 [==============================] - ETA: 0s - loss: 0.8433 - accuracy: 0.6779\n",
      "Epoch 48: saving model to model/keypoint_classifier\\keypoint_classifier.hdf5\n",
      "40/40 [==============================] - 0s 12ms/step - loss: 0.8433 - accuracy: 0.6779 - val_loss: 0.4316 - val_accuracy: 0.9224\n",
      "Epoch 49/1000\n",
      "39/40 [============================>.] - ETA: 0s - loss: 0.8421 - accuracy: 0.6819\n",
      "Epoch 49: saving model to model/keypoint_classifier\\keypoint_classifier.hdf5\n",
      "40/40 [==============================] - 0s 10ms/step - loss: 0.8428 - accuracy: 0.6815 - val_loss: 0.4339 - val_accuracy: 0.9224\n",
      "Epoch 50/1000\n",
      "40/40 [==============================] - ETA: 0s - loss: 0.8520 - accuracy: 0.6773\n",
      "Epoch 50: saving model to model/keypoint_classifier\\keypoint_classifier.hdf5\n",
      "40/40 [==============================] - 1s 13ms/step - loss: 0.8520 - accuracy: 0.6773 - val_loss: 0.4325 - val_accuracy: 0.9218\n",
      "Epoch 51/1000\n",
      "32/40 [=======================>......] - ETA: 0s - loss: 0.8499 - accuracy: 0.6875\n",
      "Epoch 51: saving model to model/keypoint_classifier\\keypoint_classifier.hdf5\n",
      "40/40 [==============================] - 0s 10ms/step - loss: 0.8527 - accuracy: 0.6850 - val_loss: 0.4327 - val_accuracy: 0.9213\n",
      "Epoch 52/1000\n",
      "31/40 [======================>.......] - ETA: 0s - loss: 0.8287 - accuracy: 0.6895\n",
      "Epoch 52: saving model to model/keypoint_classifier\\keypoint_classifier.hdf5\n",
      "40/40 [==============================] - 0s 10ms/step - loss: 0.8303 - accuracy: 0.6898 - val_loss: 0.4232 - val_accuracy: 0.9254\n",
      "Epoch 53/1000\n",
      "37/40 [==========================>...] - ETA: 0s - loss: 0.8177 - accuracy: 0.6949\n",
      "Epoch 53: saving model to model/keypoint_classifier\\keypoint_classifier.hdf5\n",
      "40/40 [==============================] - 0s 11ms/step - loss: 0.8153 - accuracy: 0.6957 - val_loss: 0.4276 - val_accuracy: 0.9201\n",
      "Epoch 54/1000\n",
      "32/40 [=======================>......] - ETA: 0s - loss: 0.8280 - accuracy: 0.6926\n",
      "Epoch 54: saving model to model/keypoint_classifier\\keypoint_classifier.hdf5\n",
      "40/40 [==============================] - 0s 9ms/step - loss: 0.8262 - accuracy: 0.6951 - val_loss: 0.4238 - val_accuracy: 0.9325\n"
     ]
    },
    {
     "name": "stdout",
     "output_type": "stream",
     "text": [
      "Epoch 55/1000\n",
      "33/40 [=======================>......] - ETA: 0s - loss: 0.8277 - accuracy: 0.6963\n",
      "Epoch 55: saving model to model/keypoint_classifier\\keypoint_classifier.hdf5\n",
      "40/40 [==============================] - 0s 9ms/step - loss: 0.8222 - accuracy: 0.6951 - val_loss: 0.4112 - val_accuracy: 0.9254\n",
      "Epoch 56/1000\n",
      "31/40 [======================>.......] - ETA: 0s - loss: 0.8131 - accuracy: 0.6948\n",
      "Epoch 56: saving model to model/keypoint_classifier\\keypoint_classifier.hdf5\n",
      "40/40 [==============================] - 0s 10ms/step - loss: 0.7977 - accuracy: 0.7028 - val_loss: 0.4136 - val_accuracy: 0.9295\n",
      "Epoch 57/1000\n",
      "37/40 [==========================>...] - ETA: 0s - loss: 0.8264 - accuracy: 0.6852\n",
      "Epoch 57: saving model to model/keypoint_classifier\\keypoint_classifier.hdf5\n",
      "40/40 [==============================] - 0s 11ms/step - loss: 0.8257 - accuracy: 0.6868 - val_loss: 0.4102 - val_accuracy: 0.9331\n",
      "Epoch 58/1000\n",
      "33/40 [=======================>......] - ETA: 0s - loss: 0.8048 - accuracy: 0.7048\n",
      "Epoch 58: saving model to model/keypoint_classifier\\keypoint_classifier.hdf5\n",
      "40/40 [==============================] - 0s 9ms/step - loss: 0.8073 - accuracy: 0.7028 - val_loss: 0.4021 - val_accuracy: 0.9230\n",
      "Epoch 59/1000\n",
      "32/40 [=======================>......] - ETA: 0s - loss: 0.8359 - accuracy: 0.6931\n",
      "Epoch 59: saving model to model/keypoint_classifier\\keypoint_classifier.hdf5\n",
      "40/40 [==============================] - 0s 11ms/step - loss: 0.8314 - accuracy: 0.6945 - val_loss: 0.4122 - val_accuracy: 0.9319\n",
      "Epoch 60/1000\n",
      "31/40 [======================>.......] - ETA: 0s - loss: 0.8153 - accuracy: 0.6913\n",
      "Epoch 60: saving model to model/keypoint_classifier\\keypoint_classifier.hdf5\n",
      "40/40 [==============================] - 0s 10ms/step - loss: 0.8231 - accuracy: 0.6888 - val_loss: 0.4095 - val_accuracy: 0.9284\n",
      "Epoch 61/1000\n",
      "34/40 [========================>.....] - ETA: 0s - loss: 0.8302 - accuracy: 0.6909\n",
      "Epoch 61: saving model to model/keypoint_classifier\\keypoint_classifier.hdf5\n",
      "40/40 [==============================] - 0s 11ms/step - loss: 0.8272 - accuracy: 0.6925 - val_loss: 0.4096 - val_accuracy: 0.9325\n",
      "Epoch 62/1000\n",
      "34/40 [========================>.....] - ETA: 0s - loss: 0.8249 - accuracy: 0.6886\n",
      "Epoch 62: saving model to model/keypoint_classifier\\keypoint_classifier.hdf5\n",
      "40/40 [==============================] - 0s 11ms/step - loss: 0.8204 - accuracy: 0.6902 - val_loss: 0.4010 - val_accuracy: 0.9349\n",
      "Epoch 63/1000\n",
      "39/40 [============================>.] - ETA: 0s - loss: 0.7886 - accuracy: 0.7163\n",
      "Epoch 63: saving model to model/keypoint_classifier\\keypoint_classifier.hdf5\n",
      "40/40 [==============================] - 0s 11ms/step - loss: 0.7870 - accuracy: 0.7168 - val_loss: 0.3967 - val_accuracy: 0.9260\n",
      "Epoch 64/1000\n",
      "39/40 [============================>.] - ETA: 0s - loss: 0.8192 - accuracy: 0.7029\n",
      "Epoch 64: saving model to model/keypoint_classifier\\keypoint_classifier.hdf5\n",
      "40/40 [==============================] - 0s 10ms/step - loss: 0.8196 - accuracy: 0.7020 - val_loss: 0.3979 - val_accuracy: 0.9384\n",
      "Epoch 65/1000\n",
      "31/40 [======================>.......] - ETA: 0s - loss: 0.8096 - accuracy: 0.7021\n",
      "Epoch 65: saving model to model/keypoint_classifier\\keypoint_classifier.hdf5\n",
      "40/40 [==============================] - 0s 11ms/step - loss: 0.8053 - accuracy: 0.7018 - val_loss: 0.3983 - val_accuracy: 0.9432\n",
      "Epoch 66/1000\n",
      "31/40 [======================>.......] - ETA: 0s - loss: 0.7862 - accuracy: 0.7099\n",
      "Epoch 66: saving model to model/keypoint_classifier\\keypoint_classifier.hdf5\n",
      "40/40 [==============================] - 0s 9ms/step - loss: 0.7871 - accuracy: 0.7081 - val_loss: 0.3969 - val_accuracy: 0.9372\n",
      "Epoch 67/1000\n",
      "31/40 [======================>.......] - ETA: 0s - loss: 0.7753 - accuracy: 0.7147\n",
      "Epoch 67: saving model to model/keypoint_classifier\\keypoint_classifier.hdf5\n",
      "40/40 [==============================] - 0s 10ms/step - loss: 0.7838 - accuracy: 0.7146 - val_loss: 0.3947 - val_accuracy: 0.9266\n",
      "Epoch 68/1000\n",
      "31/40 [======================>.......] - ETA: 0s - loss: 0.7959 - accuracy: 0.6993\n",
      "Epoch 68: saving model to model/keypoint_classifier\\keypoint_classifier.hdf5\n",
      "40/40 [==============================] - 0s 10ms/step - loss: 0.8016 - accuracy: 0.6998 - val_loss: 0.3883 - val_accuracy: 0.9349\n",
      "Epoch 69/1000\n",
      "39/40 [============================>.] - ETA: 0s - loss: 0.8112 - accuracy: 0.7029\n",
      "Epoch 69: saving model to model/keypoint_classifier\\keypoint_classifier.hdf5\n",
      "40/40 [==============================] - 0s 10ms/step - loss: 0.8098 - accuracy: 0.7038 - val_loss: 0.3951 - val_accuracy: 0.9331\n",
      "Epoch 70/1000\n",
      "33/40 [=======================>......] - ETA: 0s - loss: 0.7914 - accuracy: 0.7100\n",
      "Epoch 70: saving model to model/keypoint_classifier\\keypoint_classifier.hdf5\n",
      "40/40 [==============================] - 0s 10ms/step - loss: 0.7987 - accuracy: 0.7071 - val_loss: 0.3980 - val_accuracy: 0.9230\n",
      "Epoch 71/1000\n",
      "31/40 [======================>.......] - ETA: 0s - loss: 0.7981 - accuracy: 0.7104\n",
      "Epoch 71: saving model to model/keypoint_classifier\\keypoint_classifier.hdf5\n",
      "40/40 [==============================] - 0s 9ms/step - loss: 0.8009 - accuracy: 0.7081 - val_loss: 0.3978 - val_accuracy: 0.9349\n",
      "Epoch 72/1000\n",
      "34/40 [========================>.....] - ETA: 0s - loss: 0.8033 - accuracy: 0.7114\n",
      "Epoch 72: saving model to model/keypoint_classifier\\keypoint_classifier.hdf5\n",
      "40/40 [==============================] - 0s 10ms/step - loss: 0.8018 - accuracy: 0.7093 - val_loss: 0.3894 - val_accuracy: 0.9390\n",
      "Epoch 73/1000\n",
      "33/40 [=======================>......] - ETA: 0s - loss: 0.7895 - accuracy: 0.7041\n",
      "Epoch 73: saving model to model/keypoint_classifier\\keypoint_classifier.hdf5\n",
      "40/40 [==============================] - 0s 9ms/step - loss: 0.7876 - accuracy: 0.7065 - val_loss: 0.3866 - val_accuracy: 0.9337\n",
      "Epoch 74/1000\n",
      "34/40 [========================>.....] - ETA: 0s - loss: 0.7949 - accuracy: 0.7027\n",
      "Epoch 74: saving model to model/keypoint_classifier\\keypoint_classifier.hdf5\n",
      "40/40 [==============================] - 0s 9ms/step - loss: 0.7935 - accuracy: 0.7053 - val_loss: 0.3822 - val_accuracy: 0.9349\n",
      "Epoch 75/1000\n",
      "33/40 [=======================>......] - ETA: 0s - loss: 0.7887 - accuracy: 0.7081\n",
      "Epoch 75: saving model to model/keypoint_classifier\\keypoint_classifier.hdf5\n",
      "40/40 [==============================] - 0s 9ms/step - loss: 0.7794 - accuracy: 0.7107 - val_loss: 0.3809 - val_accuracy: 0.9420\n",
      "Epoch 76/1000\n",
      "33/40 [=======================>......] - ETA: 0s - loss: 0.7881 - accuracy: 0.7100\n",
      "Epoch 76: saving model to model/keypoint_classifier\\keypoint_classifier.hdf5\n",
      "40/40 [==============================] - 0s 9ms/step - loss: 0.7925 - accuracy: 0.7105 - val_loss: 0.3811 - val_accuracy: 0.9343\n",
      "Epoch 77/1000\n",
      "32/40 [=======================>......] - ETA: 0s - loss: 0.7813 - accuracy: 0.7144\n",
      "Epoch 77: saving model to model/keypoint_classifier\\keypoint_classifier.hdf5\n",
      "40/40 [==============================] - 0s 10ms/step - loss: 0.7907 - accuracy: 0.7136 - val_loss: 0.3808 - val_accuracy: 0.9284\n",
      "Epoch 78/1000\n",
      "31/40 [======================>.......] - ETA: 0s - loss: 0.7839 - accuracy: 0.7135\n",
      "Epoch 78: saving model to model/keypoint_classifier\\keypoint_classifier.hdf5\n",
      "40/40 [==============================] - 0s 10ms/step - loss: 0.7901 - accuracy: 0.7091 - val_loss: 0.3846 - val_accuracy: 0.9278\n",
      "Epoch 79/1000\n",
      "35/40 [=========================>....] - ETA: 0s - loss: 0.7572 - accuracy: 0.7138\n",
      "Epoch 79: saving model to model/keypoint_classifier\\keypoint_classifier.hdf5\n",
      "40/40 [==============================] - 0s 12ms/step - loss: 0.7555 - accuracy: 0.7152 - val_loss: 0.3771 - val_accuracy: 0.9378\n",
      "Epoch 80/1000\n",
      "39/40 [============================>.] - ETA: 0s - loss: 0.7833 - accuracy: 0.7099\n",
      "Epoch 80: saving model to model/keypoint_classifier\\keypoint_classifier.hdf5\n",
      "40/40 [==============================] - 0s 10ms/step - loss: 0.7852 - accuracy: 0.7113 - val_loss: 0.3731 - val_accuracy: 0.9378\n",
      "Epoch 81/1000\n",
      "31/40 [======================>.......] - ETA: 0s - loss: 0.7839 - accuracy: 0.7089\n",
      "Epoch 81: saving model to model/keypoint_classifier\\keypoint_classifier.hdf5\n",
      "40/40 [==============================] - 0s 10ms/step - loss: 0.7813 - accuracy: 0.7089 - val_loss: 0.3762 - val_accuracy: 0.9337\n"
     ]
    },
    {
     "name": "stdout",
     "output_type": "stream",
     "text": [
      "Epoch 82/1000\n",
      "40/40 [==============================] - ETA: 0s - loss: 0.7719 - accuracy: 0.7144\n",
      "Epoch 82: saving model to model/keypoint_classifier\\keypoint_classifier.hdf5\n",
      "40/40 [==============================] - 0s 11ms/step - loss: 0.7719 - accuracy: 0.7144 - val_loss: 0.3718 - val_accuracy: 0.9384\n",
      "Epoch 83/1000\n",
      "37/40 [==========================>...] - ETA: 0s - loss: 0.7702 - accuracy: 0.7105\n",
      "Epoch 83: saving model to model/keypoint_classifier\\keypoint_classifier.hdf5\n",
      "40/40 [==============================] - 0s 11ms/step - loss: 0.7681 - accuracy: 0.7105 - val_loss: 0.3758 - val_accuracy: 0.9313\n",
      "Epoch 84/1000\n",
      "32/40 [=======================>......] - ETA: 0s - loss: 0.7452 - accuracy: 0.7263\n",
      "Epoch 84: saving model to model/keypoint_classifier\\keypoint_classifier.hdf5\n",
      "40/40 [==============================] - 0s 11ms/step - loss: 0.7534 - accuracy: 0.7207 - val_loss: 0.3716 - val_accuracy: 0.9236\n",
      "Epoch 85/1000\n",
      "32/40 [=======================>......] - ETA: 0s - loss: 0.7782 - accuracy: 0.7129\n",
      "Epoch 85: saving model to model/keypoint_classifier\\keypoint_classifier.hdf5\n",
      "40/40 [==============================] - 0s 11ms/step - loss: 0.7711 - accuracy: 0.7170 - val_loss: 0.3690 - val_accuracy: 0.9408\n",
      "Epoch 86/1000\n",
      "34/40 [========================>.....] - ETA: 0s - loss: 0.7797 - accuracy: 0.7155\n",
      "Epoch 86: saving model to model/keypoint_classifier\\keypoint_classifier.hdf5\n",
      "40/40 [==============================] - 0s 10ms/step - loss: 0.7778 - accuracy: 0.7130 - val_loss: 0.3640 - val_accuracy: 0.9290\n",
      "Epoch 87/1000\n",
      "31/40 [======================>.......] - ETA: 0s - loss: 0.7733 - accuracy: 0.7170\n",
      "Epoch 87: saving model to model/keypoint_classifier\\keypoint_classifier.hdf5\n",
      "40/40 [==============================] - 0s 11ms/step - loss: 0.7675 - accuracy: 0.7170 - val_loss: 0.3672 - val_accuracy: 0.9361\n",
      "Epoch 88/1000\n",
      "40/40 [==============================] - ETA: 0s - loss: 0.7658 - accuracy: 0.7150\n",
      "Epoch 88: saving model to model/keypoint_classifier\\keypoint_classifier.hdf5\n",
      "40/40 [==============================] - 0s 10ms/step - loss: 0.7658 - accuracy: 0.7150 - val_loss: 0.3640 - val_accuracy: 0.9408\n",
      "Epoch 89/1000\n",
      "38/40 [===========================>..] - ETA: 0s - loss: 0.7717 - accuracy: 0.7220\n",
      "Epoch 89: saving model to model/keypoint_classifier\\keypoint_classifier.hdf5\n",
      "40/40 [==============================] - 1s 13ms/step - loss: 0.7681 - accuracy: 0.7225 - val_loss: 0.3676 - val_accuracy: 0.9378\n",
      "Epoch 90/1000\n",
      "32/40 [=======================>......] - ETA: 0s - loss: 0.7558 - accuracy: 0.7251\n",
      "Epoch 90: saving model to model/keypoint_classifier\\keypoint_classifier.hdf5\n",
      "40/40 [==============================] - 0s 12ms/step - loss: 0.7628 - accuracy: 0.7213 - val_loss: 0.3569 - val_accuracy: 0.9396\n",
      "Epoch 91/1000\n",
      "36/40 [==========================>...] - ETA: 0s - loss: 0.7750 - accuracy: 0.7114\n",
      "Epoch 91: saving model to model/keypoint_classifier\\keypoint_classifier.hdf5\n",
      "40/40 [==============================] - 1s 15ms/step - loss: 0.7730 - accuracy: 0.7103 - val_loss: 0.3643 - val_accuracy: 0.9343\n",
      "Epoch 92/1000\n",
      "33/40 [=======================>......] - ETA: 0s - loss: 0.7595 - accuracy: 0.7190\n",
      "Epoch 92: saving model to model/keypoint_classifier\\keypoint_classifier.hdf5\n",
      "40/40 [==============================] - 1s 14ms/step - loss: 0.7504 - accuracy: 0.7205 - val_loss: 0.3649 - val_accuracy: 0.9307\n",
      "Epoch 93/1000\n",
      "36/40 [==========================>...] - ETA: 0s - loss: 0.7552 - accuracy: 0.7235\n",
      "Epoch 93: saving model to model/keypoint_classifier\\keypoint_classifier.hdf5\n",
      "40/40 [==============================] - 0s 11ms/step - loss: 0.7528 - accuracy: 0.7257 - val_loss: 0.3552 - val_accuracy: 0.9361\n",
      "Epoch 94/1000\n",
      "30/40 [=====================>........] - ETA: 0s - loss: 0.7415 - accuracy: 0.7237\n",
      "Epoch 94: saving model to model/keypoint_classifier\\keypoint_classifier.hdf5\n",
      "40/40 [==============================] - 0s 10ms/step - loss: 0.7541 - accuracy: 0.7219 - val_loss: 0.3605 - val_accuracy: 0.9307\n",
      "Epoch 95/1000\n",
      "36/40 [==========================>...] - ETA: 0s - loss: 0.7537 - accuracy: 0.7218\n",
      "Epoch 95: saving model to model/keypoint_classifier\\keypoint_classifier.hdf5\n",
      "40/40 [==============================] - 0s 11ms/step - loss: 0.7562 - accuracy: 0.7207 - val_loss: 0.3574 - val_accuracy: 0.9301\n",
      "Epoch 96/1000\n",
      "33/40 [=======================>......] - ETA: 0s - loss: 0.7576 - accuracy: 0.7195\n",
      "Epoch 96: saving model to model/keypoint_classifier\\keypoint_classifier.hdf5\n",
      "40/40 [==============================] - 0s 11ms/step - loss: 0.7569 - accuracy: 0.7182 - val_loss: 0.3645 - val_accuracy: 0.9272\n",
      "Epoch 97/1000\n",
      "31/40 [======================>.......] - ETA: 0s - loss: 0.7606 - accuracy: 0.7278\n",
      "Epoch 97: saving model to model/keypoint_classifier\\keypoint_classifier.hdf5\n",
      "40/40 [==============================] - 0s 10ms/step - loss: 0.7635 - accuracy: 0.7261 - val_loss: 0.3593 - val_accuracy: 0.9343\n",
      "Epoch 98/1000\n",
      "36/40 [==========================>...] - ETA: 0s - loss: 0.7385 - accuracy: 0.7307\n",
      "Epoch 98: saving model to model/keypoint_classifier\\keypoint_classifier.hdf5\n",
      "40/40 [==============================] - 0s 11ms/step - loss: 0.7381 - accuracy: 0.7296 - val_loss: 0.3516 - val_accuracy: 0.9343\n",
      "Epoch 99/1000\n",
      "32/40 [=======================>......] - ETA: 0s - loss: 0.7272 - accuracy: 0.7302\n",
      "Epoch 99: saving model to model/keypoint_classifier\\keypoint_classifier.hdf5\n",
      "40/40 [==============================] - 0s 10ms/step - loss: 0.7407 - accuracy: 0.7267 - val_loss: 0.3524 - val_accuracy: 0.9343\n",
      "Epoch 100/1000\n",
      "36/40 [==========================>...] - ETA: 0s - loss: 0.7459 - accuracy: 0.7257\n",
      "Epoch 100: saving model to model/keypoint_classifier\\keypoint_classifier.hdf5\n",
      "40/40 [==============================] - 0s 12ms/step - loss: 0.7490 - accuracy: 0.7271 - val_loss: 0.3552 - val_accuracy: 0.9366\n",
      "Epoch 101/1000\n",
      "40/40 [==============================] - ETA: 0s - loss: 0.7322 - accuracy: 0.7276\n",
      "Epoch 101: saving model to model/keypoint_classifier\\keypoint_classifier.hdf5\n",
      "40/40 [==============================] - 0s 11ms/step - loss: 0.7322 - accuracy: 0.7276 - val_loss: 0.3562 - val_accuracy: 0.9313\n",
      "Epoch 102/1000\n",
      "37/40 [==========================>...] - ETA: 0s - loss: 0.7391 - accuracy: 0.7306\n",
      "Epoch 102: saving model to model/keypoint_classifier\\keypoint_classifier.hdf5\n",
      "40/40 [==============================] - 0s 12ms/step - loss: 0.7367 - accuracy: 0.7316 - val_loss: 0.3572 - val_accuracy: 0.9355\n",
      "Epoch 103/1000\n",
      "35/40 [=========================>....] - ETA: 0s - loss: 0.7778 - accuracy: 0.7161\n",
      "Epoch 103: saving model to model/keypoint_classifier\\keypoint_classifier.hdf5\n",
      "40/40 [==============================] - 0s 11ms/step - loss: 0.7689 - accuracy: 0.7190 - val_loss: 0.3558 - val_accuracy: 0.9301\n",
      "Epoch 104/1000\n",
      "33/40 [=======================>......] - ETA: 0s - loss: 0.7523 - accuracy: 0.7206\n",
      "Epoch 104: saving model to model/keypoint_classifier\\keypoint_classifier.hdf5\n",
      "40/40 [==============================] - 0s 12ms/step - loss: 0.7630 - accuracy: 0.7209 - val_loss: 0.3571 - val_accuracy: 0.9319\n",
      "Epoch 105/1000\n",
      "37/40 [==========================>...] - ETA: 0s - loss: 0.7612 - accuracy: 0.7211\n",
      "Epoch 105: saving model to model/keypoint_classifier\\keypoint_classifier.hdf5\n",
      "40/40 [==============================] - 0s 11ms/step - loss: 0.7576 - accuracy: 0.7217 - val_loss: 0.3577 - val_accuracy: 0.9313\n",
      "Epoch 106/1000\n",
      "37/40 [==========================>...] - ETA: 0s - loss: 0.7321 - accuracy: 0.7308\n",
      "Epoch 106: saving model to model/keypoint_classifier\\keypoint_classifier.hdf5\n",
      "40/40 [==============================] - 0s 11ms/step - loss: 0.7360 - accuracy: 0.7292 - val_loss: 0.3517 - val_accuracy: 0.9396\n",
      "Epoch 107/1000\n",
      "34/40 [========================>.....] - ETA: 0s - loss: 0.7268 - accuracy: 0.7348\n",
      "Epoch 107: saving model to model/keypoint_classifier\\keypoint_classifier.hdf5\n",
      "40/40 [==============================] - 0s 11ms/step - loss: 0.7397 - accuracy: 0.7306 - val_loss: 0.3528 - val_accuracy: 0.9331\n",
      "Epoch 108/1000\n",
      "37/40 [==========================>...] - ETA: 0s - loss: 0.7450 - accuracy: 0.7257\n",
      "Epoch 108: saving model to model/keypoint_classifier\\keypoint_classifier.hdf5\n",
      "40/40 [==============================] - 0s 11ms/step - loss: 0.7430 - accuracy: 0.7259 - val_loss: 0.3495 - val_accuracy: 0.9402\n"
     ]
    },
    {
     "name": "stdout",
     "output_type": "stream",
     "text": [
      "Epoch 109/1000\n",
      "38/40 [===========================>..] - ETA: 0s - loss: 0.7340 - accuracy: 0.7336\n",
      "Epoch 109: saving model to model/keypoint_classifier\\keypoint_classifier.hdf5\n",
      "40/40 [==============================] - 0s 11ms/step - loss: 0.7348 - accuracy: 0.7328 - val_loss: 0.3496 - val_accuracy: 0.9349\n",
      "Epoch 110/1000\n",
      "31/40 [======================>.......] - ETA: 0s - loss: 0.7568 - accuracy: 0.7200\n",
      "Epoch 110: saving model to model/keypoint_classifier\\keypoint_classifier.hdf5\n",
      "40/40 [==============================] - 0s 10ms/step - loss: 0.7616 - accuracy: 0.7229 - val_loss: 0.3451 - val_accuracy: 0.9402\n",
      "Epoch 111/1000\n",
      "33/40 [=======================>......] - ETA: 0s - loss: 0.7406 - accuracy: 0.7270\n",
      "Epoch 111: saving model to model/keypoint_classifier\\keypoint_classifier.hdf5\n",
      "40/40 [==============================] - 0s 12ms/step - loss: 0.7380 - accuracy: 0.7300 - val_loss: 0.3482 - val_accuracy: 0.9295\n",
      "Epoch 112/1000\n",
      "38/40 [===========================>..] - ETA: 0s - loss: 0.7646 - accuracy: 0.7218\n",
      "Epoch 112: saving model to model/keypoint_classifier\\keypoint_classifier.hdf5\n",
      "40/40 [==============================] - 0s 12ms/step - loss: 0.7630 - accuracy: 0.7207 - val_loss: 0.3486 - val_accuracy: 0.9331\n",
      "Epoch 113/1000\n",
      "33/40 [=======================>......] - ETA: 0s - loss: 0.7378 - accuracy: 0.7261\n",
      "Epoch 113: saving model to model/keypoint_classifier\\keypoint_classifier.hdf5\n",
      "40/40 [==============================] - 0s 10ms/step - loss: 0.7439 - accuracy: 0.7253 - val_loss: 0.3503 - val_accuracy: 0.9384\n",
      "Epoch 114/1000\n",
      "39/40 [============================>.] - ETA: 0s - loss: 0.7544 - accuracy: 0.7286\n",
      "Epoch 114: saving model to model/keypoint_classifier\\keypoint_classifier.hdf5\n",
      "40/40 [==============================] - 1s 13ms/step - loss: 0.7552 - accuracy: 0.7280 - val_loss: 0.3482 - val_accuracy: 0.9313\n",
      "Epoch 115/1000\n",
      "31/40 [======================>.......] - ETA: 0s - loss: 0.7468 - accuracy: 0.7223\n",
      "Epoch 115: saving model to model/keypoint_classifier\\keypoint_classifier.hdf5\n",
      "40/40 [==============================] - 0s 10ms/step - loss: 0.7422 - accuracy: 0.7225 - val_loss: 0.3552 - val_accuracy: 0.9337\n",
      "Epoch 116/1000\n",
      "39/40 [============================>.] - ETA: 0s - loss: 0.7521 - accuracy: 0.7222\n",
      "Epoch 116: saving model to model/keypoint_classifier\\keypoint_classifier.hdf5\n",
      "40/40 [==============================] - 0s 11ms/step - loss: 0.7547 - accuracy: 0.7215 - val_loss: 0.3480 - val_accuracy: 0.9349\n",
      "Epoch 117/1000\n",
      "31/40 [======================>.......] - ETA: 0s - loss: 0.7561 - accuracy: 0.7220\n",
      "Epoch 117: saving model to model/keypoint_classifier\\keypoint_classifier.hdf5\n",
      "40/40 [==============================] - 0s 9ms/step - loss: 0.7462 - accuracy: 0.7259 - val_loss: 0.3533 - val_accuracy: 0.9349\n",
      "Epoch 118/1000\n",
      "36/40 [==========================>...] - ETA: 0s - loss: 0.7384 - accuracy: 0.7313\n",
      "Epoch 118: saving model to model/keypoint_classifier\\keypoint_classifier.hdf5\n",
      "40/40 [==============================] - 0s 11ms/step - loss: 0.7346 - accuracy: 0.7346 - val_loss: 0.3497 - val_accuracy: 0.9331\n",
      "Epoch 119/1000\n",
      "38/40 [===========================>..] - ETA: 0s - loss: 0.7392 - accuracy: 0.7292\n",
      "Epoch 119: saving model to model/keypoint_classifier\\keypoint_classifier.hdf5\n",
      "40/40 [==============================] - 0s 10ms/step - loss: 0.7416 - accuracy: 0.7282 - val_loss: 0.3522 - val_accuracy: 0.9272\n",
      "Epoch 120/1000\n",
      "31/40 [======================>.......] - ETA: 0s - loss: 0.7251 - accuracy: 0.7356\n",
      "Epoch 120: saving model to model/keypoint_classifier\\keypoint_classifier.hdf5\n",
      "40/40 [==============================] - 0s 10ms/step - loss: 0.7243 - accuracy: 0.7351 - val_loss: 0.3435 - val_accuracy: 0.9331\n",
      "Epoch 121/1000\n",
      "39/40 [============================>.] - ETA: 0s - loss: 0.7287 - accuracy: 0.7354\n",
      "Epoch 121: saving model to model/keypoint_classifier\\keypoint_classifier.hdf5\n",
      "40/40 [==============================] - 0s 10ms/step - loss: 0.7261 - accuracy: 0.7367 - val_loss: 0.3475 - val_accuracy: 0.9307\n",
      "Epoch 122/1000\n",
      "34/40 [========================>.....] - ETA: 0s - loss: 0.7391 - accuracy: 0.7270\n",
      "Epoch 122: saving model to model/keypoint_classifier\\keypoint_classifier.hdf5\n",
      "40/40 [==============================] - 0s 10ms/step - loss: 0.7410 - accuracy: 0.7271 - val_loss: 0.3513 - val_accuracy: 0.9361\n",
      "Epoch 123/1000\n",
      "36/40 [==========================>...] - ETA: 0s - loss: 0.7428 - accuracy: 0.7233\n",
      "Epoch 123: saving model to model/keypoint_classifier\\keypoint_classifier.hdf5\n",
      "40/40 [==============================] - 1s 14ms/step - loss: 0.7356 - accuracy: 0.7241 - val_loss: 0.3397 - val_accuracy: 0.9301\n",
      "Epoch 124/1000\n",
      "31/40 [======================>.......] - ETA: 0s - loss: 0.7279 - accuracy: 0.7359\n",
      "Epoch 124: saving model to model/keypoint_classifier\\keypoint_classifier.hdf5\n",
      "40/40 [==============================] - 0s 10ms/step - loss: 0.7328 - accuracy: 0.7379 - val_loss: 0.3414 - val_accuracy: 0.9337\n",
      "Epoch 125/1000\n",
      "34/40 [========================>.....] - ETA: 0s - loss: 0.7348 - accuracy: 0.7355\n",
      "Epoch 125: saving model to model/keypoint_classifier\\keypoint_classifier.hdf5\n",
      "40/40 [==============================] - 0s 12ms/step - loss: 0.7371 - accuracy: 0.7355 - val_loss: 0.3434 - val_accuracy: 0.9313\n",
      "Epoch 126/1000\n",
      "37/40 [==========================>...] - ETA: 0s - loss: 0.7746 - accuracy: 0.7149\n",
      "Epoch 126: saving model to model/keypoint_classifier\\keypoint_classifier.hdf5\n",
      "40/40 [==============================] - 0s 11ms/step - loss: 0.7693 - accuracy: 0.7156 - val_loss: 0.3518 - val_accuracy: 0.9313\n",
      "Epoch 127/1000\n",
      "32/40 [=======================>......] - ETA: 0s - loss: 0.7313 - accuracy: 0.7385\n",
      "Epoch 127: saving model to model/keypoint_classifier\\keypoint_classifier.hdf5\n",
      "40/40 [==============================] - 0s 12ms/step - loss: 0.7268 - accuracy: 0.7348 - val_loss: 0.3498 - val_accuracy: 0.9396\n",
      "Epoch 128/1000\n",
      "39/40 [============================>.] - ETA: 0s - loss: 0.7310 - accuracy: 0.7286\n",
      "Epoch 128: saving model to model/keypoint_classifier\\keypoint_classifier.hdf5\n",
      "40/40 [==============================] - 0s 12ms/step - loss: 0.7292 - accuracy: 0.7286 - val_loss: 0.3435 - val_accuracy: 0.9319\n",
      "Epoch 129/1000\n",
      "38/40 [===========================>..] - ETA: 0s - loss: 0.7282 - accuracy: 0.7354\n",
      "Epoch 129: saving model to model/keypoint_classifier\\keypoint_classifier.hdf5\n",
      "40/40 [==============================] - 0s 11ms/step - loss: 0.7281 - accuracy: 0.7353 - val_loss: 0.3466 - val_accuracy: 0.9331\n",
      "Epoch 130/1000\n",
      "40/40 [==============================] - ETA: 0s - loss: 0.7323 - accuracy: 0.7351\n",
      "Epoch 130: saving model to model/keypoint_classifier\\keypoint_classifier.hdf5\n",
      "40/40 [==============================] - 0s 10ms/step - loss: 0.7323 - accuracy: 0.7351 - val_loss: 0.3403 - val_accuracy: 0.9325\n",
      "Epoch 131/1000\n",
      "37/40 [==========================>...] - ETA: 0s - loss: 0.7406 - accuracy: 0.7365\n",
      "Epoch 131: saving model to model/keypoint_classifier\\keypoint_classifier.hdf5\n",
      "40/40 [==============================] - 0s 11ms/step - loss: 0.7408 - accuracy: 0.7355 - val_loss: 0.3342 - val_accuracy: 0.9366\n",
      "Epoch 132/1000\n",
      "36/40 [==========================>...] - ETA: 0s - loss: 0.7555 - accuracy: 0.7263\n",
      "Epoch 132: saving model to model/keypoint_classifier\\keypoint_classifier.hdf5\n",
      "40/40 [==============================] - 0s 11ms/step - loss: 0.7475 - accuracy: 0.7290 - val_loss: 0.3486 - val_accuracy: 0.9301\n",
      "Epoch 133/1000\n",
      "39/40 [============================>.] - ETA: 0s - loss: 0.7073 - accuracy: 0.7348\n",
      "Epoch 133: saving model to model/keypoint_classifier\\keypoint_classifier.hdf5\n",
      "40/40 [==============================] - 0s 12ms/step - loss: 0.7065 - accuracy: 0.7346 - val_loss: 0.3377 - val_accuracy: 0.9325\n",
      "Epoch 134/1000\n",
      "36/40 [==========================>...] - ETA: 0s - loss: 0.7348 - accuracy: 0.7368\n",
      "Epoch 134: saving model to model/keypoint_classifier\\keypoint_classifier.hdf5\n",
      "40/40 [==============================] - 0s 11ms/step - loss: 0.7407 - accuracy: 0.7355 - val_loss: 0.3361 - val_accuracy: 0.9290\n",
      "Epoch 135/1000\n",
      "30/40 [=====================>........] - ETA: 0s - loss: 0.7120 - accuracy: 0.7424\n",
      "Epoch 135: saving model to model/keypoint_classifier\\keypoint_classifier.hdf5\n",
      "40/40 [==============================] - 0s 10ms/step - loss: 0.7161 - accuracy: 0.7436 - val_loss: 0.3332 - val_accuracy: 0.9301\n"
     ]
    },
    {
     "name": "stdout",
     "output_type": "stream",
     "text": [
      "Epoch 136/1000\n",
      "38/40 [===========================>..] - ETA: 0s - loss: 0.7462 - accuracy: 0.7354\n",
      "Epoch 136: saving model to model/keypoint_classifier\\keypoint_classifier.hdf5\n",
      "40/40 [==============================] - 0s 11ms/step - loss: 0.7475 - accuracy: 0.7346 - val_loss: 0.3432 - val_accuracy: 0.9313\n",
      "Epoch 137/1000\n",
      "33/40 [=======================>......] - ETA: 0s - loss: 0.7097 - accuracy: 0.7382\n",
      "Epoch 137: saving model to model/keypoint_classifier\\keypoint_classifier.hdf5\n",
      "40/40 [==============================] - 0s 9ms/step - loss: 0.7095 - accuracy: 0.7373 - val_loss: 0.3343 - val_accuracy: 0.9390\n",
      "Epoch 138/1000\n",
      "40/40 [==============================] - ETA: 0s - loss: 0.7236 - accuracy: 0.7338\n",
      "Epoch 138: saving model to model/keypoint_classifier\\keypoint_classifier.hdf5\n",
      "40/40 [==============================] - 0s 10ms/step - loss: 0.7236 - accuracy: 0.7338 - val_loss: 0.3396 - val_accuracy: 0.9290\n",
      "Epoch 139/1000\n",
      "38/40 [===========================>..] - ETA: 0s - loss: 0.7310 - accuracy: 0.7381\n",
      "Epoch 139: saving model to model/keypoint_classifier\\keypoint_classifier.hdf5\n",
      "40/40 [==============================] - 0s 10ms/step - loss: 0.7277 - accuracy: 0.7399 - val_loss: 0.3332 - val_accuracy: 0.9355\n",
      "Epoch 140/1000\n",
      "38/40 [===========================>..] - ETA: 0s - loss: 0.7322 - accuracy: 0.7350\n",
      "Epoch 140: saving model to model/keypoint_classifier\\keypoint_classifier.hdf5\n",
      "40/40 [==============================] - 0s 10ms/step - loss: 0.7291 - accuracy: 0.7357 - val_loss: 0.3365 - val_accuracy: 0.9307\n",
      "Epoch 141/1000\n",
      "31/40 [======================>.......] - ETA: 0s - loss: 0.6967 - accuracy: 0.7407\n",
      "Epoch 141: saving model to model/keypoint_classifier\\keypoint_classifier.hdf5\n",
      "40/40 [==============================] - 0s 10ms/step - loss: 0.6996 - accuracy: 0.7385 - val_loss: 0.3383 - val_accuracy: 0.9272\n",
      "Epoch 142/1000\n",
      "33/40 [=======================>......] - ETA: 0s - loss: 0.7002 - accuracy: 0.7393\n",
      "Epoch 142: saving model to model/keypoint_classifier\\keypoint_classifier.hdf5\n",
      "40/40 [==============================] - 0s 9ms/step - loss: 0.6937 - accuracy: 0.7403 - val_loss: 0.3295 - val_accuracy: 0.9378\n",
      "Epoch 143/1000\n",
      "34/40 [========================>.....] - ETA: 0s - loss: 0.7109 - accuracy: 0.7399\n",
      "Epoch 143: saving model to model/keypoint_classifier\\keypoint_classifier.hdf5\n",
      "40/40 [==============================] - 0s 10ms/step - loss: 0.7083 - accuracy: 0.7399 - val_loss: 0.3354 - val_accuracy: 0.9307\n",
      "Epoch 144/1000\n",
      "35/40 [=========================>....] - ETA: 0s - loss: 0.6997 - accuracy: 0.7420\n",
      "Epoch 144: saving model to model/keypoint_classifier\\keypoint_classifier.hdf5\n",
      "40/40 [==============================] - 0s 11ms/step - loss: 0.6963 - accuracy: 0.7438 - val_loss: 0.3411 - val_accuracy: 0.9325\n",
      "Epoch 145/1000\n",
      "34/40 [========================>.....] - ETA: 0s - loss: 0.7323 - accuracy: 0.7360\n",
      "Epoch 145: saving model to model/keypoint_classifier\\keypoint_classifier.hdf5\n",
      "40/40 [==============================] - 0s 10ms/step - loss: 0.7372 - accuracy: 0.7359 - val_loss: 0.3435 - val_accuracy: 0.9284\n",
      "Epoch 146/1000\n",
      "37/40 [==========================>...] - ETA: 0s - loss: 0.7074 - accuracy: 0.7432\n",
      "Epoch 146: saving model to model/keypoint_classifier\\keypoint_classifier.hdf5\n",
      "40/40 [==============================] - 0s 11ms/step - loss: 0.7131 - accuracy: 0.7407 - val_loss: 0.3296 - val_accuracy: 0.9372\n",
      "Epoch 147/1000\n",
      "37/40 [==========================>...] - ETA: 0s - loss: 0.7294 - accuracy: 0.7310\n",
      "Epoch 147: saving model to model/keypoint_classifier\\keypoint_classifier.hdf5\n",
      "40/40 [==============================] - 0s 10ms/step - loss: 0.7291 - accuracy: 0.7316 - val_loss: 0.3337 - val_accuracy: 0.9361\n",
      "Epoch 148/1000\n",
      "34/40 [========================>.....] - ETA: 0s - loss: 0.7083 - accuracy: 0.7399\n",
      "Epoch 148: saving model to model/keypoint_classifier\\keypoint_classifier.hdf5\n",
      "40/40 [==============================] - 0s 12ms/step - loss: 0.7128 - accuracy: 0.7381 - val_loss: 0.3303 - val_accuracy: 0.9325\n",
      "Epoch 149/1000\n",
      "30/40 [=====================>........] - ETA: 0s - loss: 0.7205 - accuracy: 0.7323\n",
      "Epoch 149: saving model to model/keypoint_classifier\\keypoint_classifier.hdf5\n",
      "40/40 [==============================] - 0s 10ms/step - loss: 0.7146 - accuracy: 0.7383 - val_loss: 0.3365 - val_accuracy: 0.9325\n",
      "Epoch 150/1000\n",
      "40/40 [==============================] - ETA: 0s - loss: 0.7188 - accuracy: 0.7304\n",
      "Epoch 150: saving model to model/keypoint_classifier\\keypoint_classifier.hdf5\n",
      "40/40 [==============================] - 1s 16ms/step - loss: 0.7188 - accuracy: 0.7304 - val_loss: 0.3322 - val_accuracy: 0.9366\n",
      "Epoch 151/1000\n",
      "36/40 [==========================>...] - ETA: 0s - loss: 0.7050 - accuracy: 0.7496\n",
      "Epoch 151: saving model to model/keypoint_classifier\\keypoint_classifier.hdf5\n",
      "40/40 [==============================] - 1s 14ms/step - loss: 0.7190 - accuracy: 0.7474 - val_loss: 0.3350 - val_accuracy: 0.9319\n",
      "Epoch 152/1000\n",
      "36/40 [==========================>...] - ETA: 0s - loss: 0.7163 - accuracy: 0.7320\n",
      "Epoch 152: saving model to model/keypoint_classifier\\keypoint_classifier.hdf5\n",
      "40/40 [==============================] - 1s 15ms/step - loss: 0.7198 - accuracy: 0.7312 - val_loss: 0.3342 - val_accuracy: 0.9325\n",
      "Epoch 153/1000\n",
      "35/40 [=========================>....] - ETA: 0s - loss: 0.7062 - accuracy: 0.7451\n",
      "Epoch 153: saving model to model/keypoint_classifier\\keypoint_classifier.hdf5\n",
      "40/40 [==============================] - 1s 15ms/step - loss: 0.7047 - accuracy: 0.7476 - val_loss: 0.3290 - val_accuracy: 0.9343\n",
      "Epoch 154/1000\n",
      "37/40 [==========================>...] - ETA: 0s - loss: 0.7320 - accuracy: 0.7369\n",
      "Epoch 154: saving model to model/keypoint_classifier\\keypoint_classifier.hdf5\n",
      "40/40 [==============================] - 1s 15ms/step - loss: 0.7294 - accuracy: 0.7359 - val_loss: 0.3223 - val_accuracy: 0.9349\n",
      "Epoch 155/1000\n",
      "37/40 [==========================>...] - ETA: 0s - loss: 0.7267 - accuracy: 0.7314\n",
      "Epoch 155: saving model to model/keypoint_classifier\\keypoint_classifier.hdf5\n",
      "40/40 [==============================] - 1s 14ms/step - loss: 0.7256 - accuracy: 0.7318 - val_loss: 0.3300 - val_accuracy: 0.9372\n",
      "Epoch 156/1000\n",
      "32/40 [=======================>......] - ETA: 0s - loss: 0.7280 - accuracy: 0.7373\n",
      "Epoch 156: saving model to model/keypoint_classifier\\keypoint_classifier.hdf5\n",
      "40/40 [==============================] - 1s 13ms/step - loss: 0.7272 - accuracy: 0.7385 - val_loss: 0.3378 - val_accuracy: 0.9349\n",
      "Epoch 157/1000\n",
      "38/40 [===========================>..] - ETA: 0s - loss: 0.7186 - accuracy: 0.7410\n",
      "Epoch 157: saving model to model/keypoint_classifier\\keypoint_classifier.hdf5\n",
      "40/40 [==============================] - 1s 13ms/step - loss: 0.7237 - accuracy: 0.7405 - val_loss: 0.3333 - val_accuracy: 0.9290\n",
      "Epoch 158/1000\n",
      "32/40 [=======================>......] - ETA: 0s - loss: 0.7137 - accuracy: 0.7385\n",
      "Epoch 158: saving model to model/keypoint_classifier\\keypoint_classifier.hdf5\n",
      "40/40 [==============================] - 0s 12ms/step - loss: 0.7209 - accuracy: 0.7385 - val_loss: 0.3338 - val_accuracy: 0.9378\n",
      "Epoch 159/1000\n",
      "33/40 [=======================>......] - ETA: 0s - loss: 0.7171 - accuracy: 0.7363\n",
      "Epoch 159: saving model to model/keypoint_classifier\\keypoint_classifier.hdf5\n",
      "40/40 [==============================] - 0s 12ms/step - loss: 0.7082 - accuracy: 0.7411 - val_loss: 0.3384 - val_accuracy: 0.9313\n",
      "Epoch 160/1000\n",
      "32/40 [=======================>......] - ETA: 0s - loss: 0.6966 - accuracy: 0.7524\n",
      "Epoch 160: saving model to model/keypoint_classifier\\keypoint_classifier.hdf5\n",
      "40/40 [==============================] - 0s 11ms/step - loss: 0.7021 - accuracy: 0.7515 - val_loss: 0.3242 - val_accuracy: 0.9301\n",
      "Epoch 161/1000\n",
      "39/40 [============================>.] - ETA: 0s - loss: 0.7027 - accuracy: 0.7452\n",
      "Epoch 161: saving model to model/keypoint_classifier\\keypoint_classifier.hdf5\n",
      "40/40 [==============================] - 1s 13ms/step - loss: 0.7017 - accuracy: 0.7460 - val_loss: 0.3224 - val_accuracy: 0.9361\n",
      "Epoch 162/1000\n",
      "32/40 [=======================>......] - ETA: 0s - loss: 0.7170 - accuracy: 0.7402\n",
      "Epoch 162: saving model to model/keypoint_classifier\\keypoint_classifier.hdf5\n",
      "40/40 [==============================] - 0s 12ms/step - loss: 0.7107 - accuracy: 0.7415 - val_loss: 0.3210 - val_accuracy: 0.9372\n"
     ]
    },
    {
     "name": "stdout",
     "output_type": "stream",
     "text": [
      "Epoch 163/1000\n",
      "37/40 [==========================>...] - ETA: 0s - loss: 0.7025 - accuracy: 0.7500\n",
      "Epoch 163: saving model to model/keypoint_classifier\\keypoint_classifier.hdf5\n",
      "40/40 [==============================] - 0s 12ms/step - loss: 0.6965 - accuracy: 0.7519 - val_loss: 0.3203 - val_accuracy: 0.9396\n",
      "Epoch 164/1000\n",
      "37/40 [==========================>...] - ETA: 0s - loss: 0.7134 - accuracy: 0.7378\n",
      "Epoch 164: saving model to model/keypoint_classifier\\keypoint_classifier.hdf5\n",
      "40/40 [==============================] - 0s 12ms/step - loss: 0.7117 - accuracy: 0.7383 - val_loss: 0.3300 - val_accuracy: 0.9337\n",
      "Epoch 165/1000\n",
      "38/40 [===========================>..] - ETA: 0s - loss: 0.7012 - accuracy: 0.7428\n",
      "Epoch 165: saving model to model/keypoint_classifier\\keypoint_classifier.hdf5\n",
      "40/40 [==============================] - 0s 11ms/step - loss: 0.6964 - accuracy: 0.7434 - val_loss: 0.3280 - val_accuracy: 0.9301\n",
      "Epoch 166/1000\n",
      "37/40 [==========================>...] - ETA: 0s - loss: 0.7086 - accuracy: 0.7479\n",
      "Epoch 166: saving model to model/keypoint_classifier\\keypoint_classifier.hdf5\n",
      "40/40 [==============================] - 0s 10ms/step - loss: 0.7061 - accuracy: 0.7498 - val_loss: 0.3271 - val_accuracy: 0.9307\n",
      "Epoch 167/1000\n",
      "35/40 [=========================>....] - ETA: 0s - loss: 0.7097 - accuracy: 0.7382\n",
      "Epoch 167: saving model to model/keypoint_classifier\\keypoint_classifier.hdf5\n",
      "40/40 [==============================] - 1s 16ms/step - loss: 0.7155 - accuracy: 0.7363 - val_loss: 0.3166 - val_accuracy: 0.9402\n",
      "Epoch 168/1000\n",
      "35/40 [=========================>....] - ETA: 0s - loss: 0.7119 - accuracy: 0.7429\n",
      "Epoch 168: saving model to model/keypoint_classifier\\keypoint_classifier.hdf5\n",
      "40/40 [==============================] - 0s 12ms/step - loss: 0.7076 - accuracy: 0.7432 - val_loss: 0.3257 - val_accuracy: 0.9325\n",
      "Epoch 169/1000\n",
      "36/40 [==========================>...] - ETA: 0s - loss: 0.6936 - accuracy: 0.7500\n",
      "Epoch 169: saving model to model/keypoint_classifier\\keypoint_classifier.hdf5\n",
      "40/40 [==============================] - 0s 12ms/step - loss: 0.6952 - accuracy: 0.7500 - val_loss: 0.3263 - val_accuracy: 0.9361\n",
      "Epoch 170/1000\n",
      "34/40 [========================>.....] - ETA: 0s - loss: 0.7083 - accuracy: 0.7436\n",
      "Epoch 170: saving model to model/keypoint_classifier\\keypoint_classifier.hdf5\n",
      "40/40 [==============================] - 0s 11ms/step - loss: 0.7064 - accuracy: 0.7450 - val_loss: 0.3245 - val_accuracy: 0.9366\n",
      "Epoch 171/1000\n",
      "33/40 [=======================>......] - ETA: 0s - loss: 0.7183 - accuracy: 0.7446\n",
      "Epoch 171: saving model to model/keypoint_classifier\\keypoint_classifier.hdf5\n",
      "40/40 [==============================] - 0s 10ms/step - loss: 0.7153 - accuracy: 0.7428 - val_loss: 0.3359 - val_accuracy: 0.9301\n",
      "Epoch 172/1000\n",
      "37/40 [==========================>...] - ETA: 0s - loss: 0.7079 - accuracy: 0.7407\n",
      "Epoch 172: saving model to model/keypoint_classifier\\keypoint_classifier.hdf5\n",
      "40/40 [==============================] - 0s 10ms/step - loss: 0.7065 - accuracy: 0.7403 - val_loss: 0.3229 - val_accuracy: 0.9384\n",
      "Epoch 173/1000\n",
      "32/40 [=======================>......] - ETA: 0s - loss: 0.7055 - accuracy: 0.7305\n",
      "Epoch 173: saving model to model/keypoint_classifier\\keypoint_classifier.hdf5\n",
      "40/40 [==============================] - 0s 9ms/step - loss: 0.7090 - accuracy: 0.7288 - val_loss: 0.3272 - val_accuracy: 0.9355\n",
      "Epoch 174/1000\n",
      "39/40 [============================>.] - ETA: 0s - loss: 0.7048 - accuracy: 0.7488\n",
      "Epoch 174: saving model to model/keypoint_classifier\\keypoint_classifier.hdf5\n",
      "40/40 [==============================] - 0s 12ms/step - loss: 0.7055 - accuracy: 0.7482 - val_loss: 0.3250 - val_accuracy: 0.9378\n",
      "Epoch 175/1000\n",
      "33/40 [=======================>......] - ETA: 0s - loss: 0.6923 - accuracy: 0.7483\n",
      "Epoch 175: saving model to model/keypoint_classifier\\keypoint_classifier.hdf5\n",
      "40/40 [==============================] - 0s 10ms/step - loss: 0.7022 - accuracy: 0.7438 - val_loss: 0.3266 - val_accuracy: 0.9355\n",
      "Epoch 176/1000\n",
      "35/40 [=========================>....] - ETA: 0s - loss: 0.6924 - accuracy: 0.7507\n",
      "Epoch 176: saving model to model/keypoint_classifier\\keypoint_classifier.hdf5\n",
      "40/40 [==============================] - 0s 11ms/step - loss: 0.6894 - accuracy: 0.7505 - val_loss: 0.3304 - val_accuracy: 0.9307\n",
      "Epoch 177/1000\n",
      "37/40 [==========================>...] - ETA: 0s - loss: 0.7016 - accuracy: 0.7409\n",
      "Epoch 177: saving model to model/keypoint_classifier\\keypoint_classifier.hdf5\n",
      "40/40 [==============================] - 0s 11ms/step - loss: 0.6987 - accuracy: 0.7413 - val_loss: 0.3200 - val_accuracy: 0.9390\n",
      "Epoch 178/1000\n",
      "32/40 [=======================>......] - ETA: 0s - loss: 0.6951 - accuracy: 0.7507\n",
      "Epoch 178: saving model to model/keypoint_classifier\\keypoint_classifier.hdf5\n",
      "40/40 [==============================] - 0s 12ms/step - loss: 0.6893 - accuracy: 0.7517 - val_loss: 0.3181 - val_accuracy: 0.9390\n",
      "Epoch 179/1000\n",
      "36/40 [==========================>...] - ETA: 0s - loss: 0.6880 - accuracy: 0.7517\n",
      "Epoch 179: saving model to model/keypoint_classifier\\keypoint_classifier.hdf5\n",
      "40/40 [==============================] - 1s 13ms/step - loss: 0.6926 - accuracy: 0.7515 - val_loss: 0.3205 - val_accuracy: 0.9426\n",
      "Epoch 180/1000\n",
      "35/40 [=========================>....] - ETA: 0s - loss: 0.7116 - accuracy: 0.7402\n",
      "Epoch 180: saving model to model/keypoint_classifier\\keypoint_classifier.hdf5\n",
      "40/40 [==============================] - 0s 12ms/step - loss: 0.7129 - accuracy: 0.7379 - val_loss: 0.3231 - val_accuracy: 0.9384\n",
      "Epoch 181/1000\n",
      "38/40 [===========================>..] - ETA: 0s - loss: 0.7018 - accuracy: 0.7477\n",
      "Epoch 181: saving model to model/keypoint_classifier\\keypoint_classifier.hdf5\n",
      "40/40 [==============================] - 0s 11ms/step - loss: 0.6999 - accuracy: 0.7490 - val_loss: 0.3238 - val_accuracy: 0.9337\n",
      "Epoch 182/1000\n",
      "35/40 [=========================>....] - ETA: 0s - loss: 0.7014 - accuracy: 0.7424\n",
      "Epoch 182: saving model to model/keypoint_classifier\\keypoint_classifier.hdf5\n",
      "40/40 [==============================] - 0s 11ms/step - loss: 0.6969 - accuracy: 0.7425 - val_loss: 0.3220 - val_accuracy: 0.9301\n",
      "Epoch 183/1000\n",
      "37/40 [==========================>...] - ETA: 0s - loss: 0.7046 - accuracy: 0.7386\n",
      "Epoch 183: saving model to model/keypoint_classifier\\keypoint_classifier.hdf5\n",
      "40/40 [==============================] - 0s 11ms/step - loss: 0.7027 - accuracy: 0.7389 - val_loss: 0.3208 - val_accuracy: 0.9361\n",
      "Epoch 184/1000\n",
      "37/40 [==========================>...] - ETA: 0s - loss: 0.7231 - accuracy: 0.7384\n",
      "Epoch 184: saving model to model/keypoint_classifier\\keypoint_classifier.hdf5\n",
      "40/40 [==============================] - 0s 10ms/step - loss: 0.7158 - accuracy: 0.7421 - val_loss: 0.3297 - val_accuracy: 0.9355\n",
      "Epoch 185/1000\n",
      "40/40 [==============================] - ETA: 0s - loss: 0.7058 - accuracy: 0.7415\n",
      "Epoch 185: saving model to model/keypoint_classifier\\keypoint_classifier.hdf5\n",
      "40/40 [==============================] - 0s 11ms/step - loss: 0.7058 - accuracy: 0.7415 - val_loss: 0.3277 - val_accuracy: 0.9349\n",
      "Epoch 186/1000\n",
      "37/40 [==========================>...] - ETA: 0s - loss: 0.6961 - accuracy: 0.7437\n",
      "Epoch 186: saving model to model/keypoint_classifier\\keypoint_classifier.hdf5\n",
      "40/40 [==============================] - 0s 11ms/step - loss: 0.6933 - accuracy: 0.7444 - val_loss: 0.3222 - val_accuracy: 0.9361\n",
      "Epoch 187/1000\n",
      "32/40 [=======================>......] - ETA: 0s - loss: 0.6981 - accuracy: 0.7368\n",
      "Epoch 187: saving model to model/keypoint_classifier\\keypoint_classifier.hdf5\n",
      "40/40 [==============================] - 0s 11ms/step - loss: 0.6930 - accuracy: 0.7397 - val_loss: 0.3259 - val_accuracy: 0.9307\n",
      "Epoch 187: early stopping\n"
     ]
    },
    {
     "data": {
      "text/plain": [
       "<keras.callbacks.History at 0x2e8a8e841c0>"
      ]
     },
     "execution_count": 11,
     "metadata": {},
     "output_type": "execute_result"
    }
   ],
   "source": [
    "model.fit(\n",
    "    X_train,\n",
    "    y_train,\n",
    "    epochs=1000,\n",
    "    batch_size=128,\n",
    "    validation_data=(X_test, y_test),\n",
    "    callbacks=[cp_callback, es_callback]\n",
    ")"
   ]
  },
  {
   "cell_type": "code",
   "execution_count": 12,
   "metadata": {
    "colab": {
     "base_uri": "https://localhost:8080/"
    },
    "id": "pxvb2Y299hE3",
    "outputId": "59eb3185-2e37-4b9e-bc9d-ab1b8ac29b7f"
   },
   "outputs": [
    {
     "name": "stdout",
     "output_type": "stream",
     "text": [
      "14/14 [==============================] - 0s 5ms/step - loss: 0.3259 - accuracy: 0.9307\n"
     ]
    }
   ],
   "source": [
    "# Model evaluation\n",
    "val_loss, val_acc = model.evaluate(X_test, y_test, batch_size=128)"
   ]
  },
  {
   "cell_type": "code",
   "execution_count": 13,
   "metadata": {
    "id": "RBkmDeUW9hE4"
   },
   "outputs": [],
   "source": [
    "# Loading the saved model\n",
    "model = tf.keras.models.load_model(model_save_path)"
   ]
  },
  {
   "cell_type": "code",
   "execution_count": 14,
   "metadata": {
    "colab": {
     "base_uri": "https://localhost:8080/"
    },
    "id": "tFz9Tb0I9hE4",
    "outputId": "1c3b3528-54ae-4ee2-ab04-77429211cbef"
   },
   "outputs": [
    {
     "name": "stdout",
     "output_type": "stream",
     "text": [
      "1/1 [==============================] - 0s 236ms/step\n",
      "[1.6503347e-02 8.2728416e-02 1.7399725e-04 2.9085069e-07 4.3498662e-08\n",
      " 2.1741108e-08 9.0059388e-01 1.1725217e-10]\n",
      "6\n"
     ]
    }
   ],
   "source": [
    "# Inference test\n",
    "predict_result = model.predict(np.array([X_test[0]]))\n",
    "print(np.squeeze(predict_result))\n",
    "print(np.argmax(np.squeeze(predict_result)))"
   ]
  },
  {
   "cell_type": "markdown",
   "metadata": {
    "id": "S3U4yNWx9hE4"
   },
   "source": [
    "# Confusion matrix"
   ]
  },
  {
   "cell_type": "code",
   "execution_count": 15,
   "metadata": {
    "colab": {
     "base_uri": "https://localhost:8080/",
     "height": 582
    },
    "id": "AP1V6SCk9hE5",
    "outputId": "08e41a80-7a4a-4619-8125-ecc371368d19"
   },
   "outputs": [
    {
     "name": "stdout",
     "output_type": "stream",
     "text": [
      "53/53 [==============================] - 0s 4ms/step\n"
     ]
    },
    {
     "data": {
      "image/png": "[encoded data removed]",
      "text/plain": [
       "<Figure size 700x600 with 2 Axes>"
      ]
     },
     "metadata": {},
     "output_type": "display_data"
    },
    {
     "name": "stdout",
     "output_type": "stream",
     "text": [
      "Classification Report\n",
      "              precision    recall  f1-score   support\n",
      "\n",
      "           0       0.98      0.95      0.96       400\n",
      "           1       0.99      0.77      0.86       379\n",
      "           2       0.82      0.99      0.90       341\n",
      "           3       1.00      0.95      0.98        87\n",
      "           4       0.98      0.99      0.98       147\n",
      "           5       0.83      1.00      0.91       126\n",
      "           6       0.98      0.99      0.99       104\n",
      "           7       0.99      1.00      1.00       105\n",
      "\n",
      "    accuracy                           0.93      1689\n",
      "   macro avg       0.95      0.96      0.95      1689\n",
      "weighted avg       0.94      0.93      0.93      1689\n",
      "\n"
     ]
    }
   ],
   "source": [
    "import pandas as pd\n",
    "import seaborn as sns\n",
    "import matplotlib.pyplot as plt\n",
    "from sklearn.metrics import confusion_matrix, classification_report\n",
    "\n",
    "def print_confusion_matrix(y_true, y_pred, report=True):\n",
    "    labels = sorted(list(set(y_true)))\n",
    "    cmx_data = confusion_matrix(y_true, y_pred, labels=labels)\n",
    "    \n",
    "    df_cmx = pd.DataFrame(cmx_data, index=labels, columns=labels)\n",
    " \n",
    "    fig, ax = plt.subplots(figsize=(7, 6))\n",
    "    sns.heatmap(df_cmx, annot=True, fmt='g' ,square=False)\n",
    "    ax.set_ylim(len(set(y_true)), 0)\n",
    "    plt.show()\n",
    "    \n",
    "    if report:\n",
    "        print('Classification Report')\n",
    "        print(classification_report(y_test, y_pred))\n",
    "\n",
    "Y_pred = model.predict(X_test)\n",
    "y_pred = np.argmax(Y_pred, axis=1)\n",
    "\n",
    "print_confusion_matrix(y_test, y_pred)"
   ]
  },
  {
   "cell_type": "markdown",
   "metadata": {
    "id": "FNP6aqzc9hE5"
   },
   "source": [
    "# Convert to model for Tensorflow-Lite"
   ]
  },
  {
   "cell_type": "code",
   "execution_count": 16,
   "metadata": {
    "id": "ODjnYyld9hE6"
   },
   "outputs": [],
   "source": [
    "# Save as a model dedicated to inference\n",
    "model.save(model_save_path, include_optimizer=False)"
   ]
  },
  {
   "cell_type": "code",
   "execution_count": null,
   "metadata": {
    "colab": {
     "base_uri": "https://localhost:8080/"
    },
    "id": "zRfuK8Y59hE6",
    "outputId": "a4ca585c-b5d5-4244-8291-8674063209bb"
   },
   "outputs": [
    {
     "name": "stderr",
     "output_type": "stream",
     "text": [
      "WARNING:absl:Found untraced functions such as _update_step_xla while saving (showing 1 of 1). These functions will not be directly callable after loading.\n"
     ]
    }
   ],
   "source": [
    "# Transform model (quantization)\n",
    "\n",
    "converter = tf.lite.TFLiteConverter.from_keras_model(model)\n",
    "converter.optimizations = [tf.lite.Optimize.DEFAULT]\n",
    "tflite_quantized_model = converter.convert()\n",
    "\n",
    "open(tflite_save_path, 'wb').write(tflite_quantized_model)"
   ]
  },
  {
   "cell_type": "markdown",
   "metadata": {
    "id": "CHBPBXdx9hE6"
   },
   "source": [
    "# Inference test"
   ]
  },
  {
   "cell_type": "code",
   "execution_count": null,
   "metadata": {
    "id": "mGAzLocO9hE7"
   },
   "outputs": [],
   "source": [
    "interpreter = tf.lite.Interpreter(model_path=tflite_save_path)\n",
    "interpreter.allocate_tensors()"
   ]
  },
  {
   "cell_type": "code",
   "execution_count": null,
   "metadata": {
    "id": "oQuDK8YS9hE7"
   },
   "outputs": [],
   "source": [
    "# Get I / O tensor\n",
    "input_details = interpreter.get_input_details()\n",
    "output_details = interpreter.get_output_details()"
   ]
  },
  {
   "cell_type": "code",
   "execution_count": null,
   "metadata": {
    "id": "2_ixAf_l9hE7"
   },
   "outputs": [],
   "source": [
    "interpreter.set_tensor(input_details[0]['index'], np.array([X_test[0]]))"
   ]
  },
  {
   "cell_type": "code",
   "execution_count": null,
   "metadata": {
    "colab": {
     "base_uri": "https://localhost:8080/"
    },
    "id": "s4FoAnuc9hE7",
    "outputId": "91f18257-8d8b-4ef3-c558-e9b5f94fabbf",
    "scrolled": true
   },
   "outputs": [],
   "source": [
    "%%time\n",
    "# Inference implementation\n",
    "interpreter.invoke()\n",
    "tflite_results = interpreter.get_tensor(output_details[0]['index'])"
   ]
  },
  {
   "cell_type": "code",
   "execution_count": null,
   "metadata": {
    "colab": {
     "base_uri": "https://localhost:8080/"
    },
    "id": "vONjp19J9hE8",
    "outputId": "77205e24-fd00-42c4-f7b6-e06e527c2cba"
   },
   "outputs": [],
   "source": [
    "print(np.squeeze(tflite_results))\n",
    "print(np.argmax(np.squeeze(tflite_results)))"
   ]
  }
 ],
 "metadata": {
  "accelerator": "GPU",
  "colab": {
   "collapsed_sections": [],
   "name": "keypoint_classification_EN.ipynb",
   "provenance": [],
   "toc_visible": true
  },
  "kernelspec": {
   "display_name": "Python 3 (ipykernel)",
   "language": "python",
   "name": "python3"
  },
  "language_info": {
   "codemirror_mode": {
    "name": "ipython",
    "version": 3
   },
   "file_extension": ".py",
   "mimetype": "text/x-python",
   "name": "python",
   "nbconvert_exporter": "python",
   "pygments_lexer": "ipython3",
   "version": "3.10.9 (tags/v3.10.9:1dd9be6, Dec  6 2022, 20:01:21) [MSC v.1934 64 bit (AMD64)]"
  },
  "vscode": {
   "interpreter": {
    "hash": "b93eb15db80ff03631b713426161207cd2c0c8ea210c2509a05072ee6486cc1d"
   }
  }
 },
 "nbformat": 4,
 "nbformat_minor": 1
}
